{
 "cells": [
  {
   "cell_type": "raw",
   "id": "af3dbbb5-3e2a-4ded-bea2-37c0dd2c76c6",
   "metadata": {},
   "source": [
    " 1. Create a parent class Animal with a method speak() that prints a generic message. Create a child class Dog \n",
    "that overrides the speak() method to print \"Bark!\""
   ]
  },
  {
   "cell_type": "code",
   "execution_count": 1,
   "id": "338ecec6-96a2-4460-91cf-89d487c3e059",
   "metadata": {},
   "outputs": [
    {
     "name": "stdout",
     "output_type": "stream",
     "text": [
      "Bark!\n"
     ]
    }
   ],
   "source": [
    "class Animal:\n",
    "    def speak(self):\n",
    "        print(\"Generic animal sound\")\n",
    "\n",
    "class Dog(Animal):\n",
    "    def speak(self):\n",
    "        print(\"Bark!\")\n",
    "\n",
    "d = Dog()\n",
    "d.speak()\n"
   ]
  },
  {
   "cell_type": "raw",
   "id": "d806da08-d481-434c-acc7-2234bec20c5a",
   "metadata": {},
   "source": [
    " 2. Write a program to create an abstract class Shape with a method area(). Derive classes Circle and Rectangle \n",
    "from it and implement the area() method in both"
   ]
  },
  {
   "cell_type": "code",
   "execution_count": 2,
   "id": "074fffbc-d0d9-4e72-967f-0c73644f79ee",
   "metadata": {},
   "outputs": [
    {
     "name": "stdout",
     "output_type": "stream",
     "text": [
      "78.5\n",
      "24\n"
     ]
    }
   ],
   "source": [
    "from abc import ABC, abstractmethod\n",
    "\n",
    "class Shape(ABC):\n",
    "    @abstractmethod\n",
    "    def area(self):\n",
    "        pass\n",
    "\n",
    "class Circle(Shape):\n",
    "    def __init__(self, r):\n",
    "        self.r = r\n",
    "    def area(self):\n",
    "        return 3.14 * self.r * self.r\n",
    "\n",
    "class Rectangle(Shape):\n",
    "    def __init__(self, l, w):\n",
    "        self.l, self.w = l, w\n",
    "    def area(self):\n",
    "        return self.l * self.w\n",
    "\n",
    "print(Circle(5).area())\n",
    "print(Rectangle(4, 6).area())\n"
   ]
  },
  {
   "cell_type": "raw",
   "id": "dc7674da-2e73-4c17-8130-7d821213b4cc",
   "metadata": {},
   "source": [
    " 3. Implement a multi-level inheritance scenario where a class Vehicle has an attribute type. Derive a class Car \n",
    "and further derive a class ElectricCar that adds a battery attribute"
   ]
  },
  {
   "cell_type": "code",
   "execution_count": 3,
   "id": "42bf00a9-c0b4-4c92-ba44-fbba355cd292",
   "metadata": {},
   "outputs": [
    {
     "name": "stdout",
     "output_type": "stream",
     "text": [
      "Car Tesla 100kWh\n"
     ]
    }
   ],
   "source": [
    "class Vehicle:\n",
    "    def __init__(self, type):\n",
    "        self.type = type\n",
    "\n",
    "class Car(Vehicle):\n",
    "    def __init__(self, type, model):\n",
    "        super().__init__(type)\n",
    "        self.model = model\n",
    "\n",
    "class ElectricCar(Car):\n",
    "    def __init__(self, type, model, battery):\n",
    "        super().__init__(type, model)\n",
    "        self.battery = battery\n",
    "\n",
    "ec = ElectricCar(\"Car\", \"Tesla\", \"100kWh\")\n",
    "print(ec.type, ec.model, ec.battery)\n"
   ]
  },
  {
   "cell_type": "raw",
   "id": "76c59090-18ca-485c-b7ae-0baedabb1013",
   "metadata": {},
   "source": [
    "4. Demonstrate polymorphism by creating a base class Bird with a method fly(). Create two derived classes \n",
    "Sparrow and Penguin that override the fly() method. "
   ]
  },
  {
   "cell_type": "code",
   "execution_count": 4,
   "id": "75d08f4f-f933-457c-86a6-033da00798aa",
   "metadata": {},
   "outputs": [
    {
     "name": "stdout",
     "output_type": "stream",
     "text": [
      "Sparrow flies high\n",
      "Penguins cannot fly\n"
     ]
    }
   ],
   "source": [
    "class Bird:\n",
    "    def fly(self):\n",
    "        print(\"Birds can fly\")\n",
    "\n",
    "class Sparrow(Bird):\n",
    "    def fly(self):\n",
    "        print(\"Sparrow flies high\")\n",
    "\n",
    "class Penguin(Bird):\n",
    "    def fly(self):\n",
    "        print(\"Penguins cannot fly\")\n",
    "\n",
    "for bird in [Sparrow(), Penguin()]:\n",
    "    bird.fly()\n"
   ]
  },
  {
   "cell_type": "raw",
   "id": "66e44a75-eb60-4882-8605-c887b56e8fee",
   "metadata": {},
   "source": [
    "5. Write a program to demonstrate encapsulation by creating a class BankAccount with private attributes \n",
    "balance and methods to deposit, withdraw, and check balance"
   ]
  },
  {
   "cell_type": "code",
   "execution_count": 5,
   "id": "9a4c91cb-c0b9-4e9f-b284-2f5d094c1076",
   "metadata": {},
   "outputs": [
    {
     "name": "stdout",
     "output_type": "stream",
     "text": [
      "500\n"
     ]
    }
   ],
   "source": [
    "class BankAccount:\n",
    "    def __init__(self, balance=0):\n",
    "        self.__balance = balance\n",
    "\n",
    "    def deposit(self, amount):\n",
    "        self.__balance += amount\n",
    "\n",
    "    def withdraw(self, amount):\n",
    "        if amount <= self.__balance:\n",
    "            self.__balance -= amount\n",
    "        else:\n",
    "            print(\"Insufficient balance\")\n",
    "\n",
    "    def check_balance(self):\n",
    "        return self.__balance\n",
    "\n",
    "acc = BankAccount()\n",
    "acc.deposit(1000)\n",
    "acc.withdraw(500)\n",
    "print(acc.check_balance())\n"
   ]
  },
  {
   "cell_type": "raw",
   "id": "c3035142-bd40-412c-99a4-f1853270a226",
   "metadata": {},
   "source": [
    " 6. Demonstrate runtime polymorphism using a method play() in a base class Instrument. Derive classes Guitar \n",
    "and Piano that implement their own version of play()"
   ]
  },
  {
   "cell_type": "code",
   "execution_count": 8,
   "id": "aa019636-8953-4bd3-b965-9ba6b86f4321",
   "metadata": {},
   "outputs": [
    {
     "name": "stdout",
     "output_type": "stream",
     "text": [
      "Playing Guitar\n",
      "Playing Piano\n"
     ]
    }
   ],
   "source": [
    "class Instrument:\n",
    "    def play(self):\n",
    "        print(\"Playing instrument\")\n",
    "\n",
    "class Guitar(Instrument):\n",
    "    def play(self):\n",
    "        print(\"Playing Guitar\")\n",
    "\n",
    "class Piano(Instrument):\n",
    "    def play(self):\n",
    "        print(\"Playing Piano\")\n",
    "\n",
    "for inst in [Guitar(), Piano()]:\n",
    "    inst.play()\n"
   ]
  },
  {
   "cell_type": "raw",
   "id": "a6771736-7da0-48ae-b0db-cda58aef85f8",
   "metadata": {},
   "source": [
    " 7. Create a class MathOperations with a class method add_numbers() to add two numbers and a static \n",
    "method subtract_numbers() to subtract two numbers"
   ]
  },
  {
   "cell_type": "code",
   "execution_count": 9,
   "id": "b3f3823b-1886-44ab-92e7-0e91af894dfc",
   "metadata": {},
   "outputs": [
    {
     "name": "stdout",
     "output_type": "stream",
     "text": [
      "8\n",
      "4\n"
     ]
    }
   ],
   "source": [
    "class MathOperations:\n",
    "    @classmethod\n",
    "    def add_numbers(cls, a, b):\n",
    "        return a + b\n",
    "\n",
    "    @staticmethod\n",
    "    def subtract_numbers(a, b):\n",
    "        return a - b\n",
    "\n",
    "print(MathOperations.add_numbers(5, 3))\n",
    "print(MathOperations.subtract_numbers(10, 6))\n"
   ]
  },
  {
   "cell_type": "raw",
   "id": "16b63491-0f98-4324-9217-574b12e347cf",
   "metadata": {},
   "source": [
    " 8. Implement a class Person with a class method to count the total number of persons created."
   ]
  },
  {
   "cell_type": "code",
   "execution_count": 11,
   "id": "8cbd236b-dcc5-49d1-b381-f48a3d0748e7",
   "metadata": {},
   "outputs": [
    {
     "name": "stdout",
     "output_type": "stream",
     "text": [
      "2\n"
     ]
    }
   ],
   "source": [
    "class Person:\n",
    "    count = 0\n",
    "    def __init__(self, name):\n",
    "        self.name = name\n",
    "        Person.count += 1\n",
    "\n",
    "    @classmethod\n",
    "    def total_persons(cls):\n",
    "        return cls.count\n",
    "\n",
    "p1 = Person(\"Alice\")\n",
    "p2 = Person(\"Bob\")\n",
    "print(Person.total_persons())\n"
   ]
  },
  {
   "cell_type": "raw",
   "id": "55fa6c7f-584f-4e01-a4b7-404f1a6eb69e",
   "metadata": {},
   "source": [
    " 9. Write a class Fraction with attributes numerator and denominator. Override the str method to display the \n",
    "fraction as \"numerator/denominator\""
   ]
  },
  {
   "cell_type": "code",
   "execution_count": 12,
   "id": "4bf25d5c-4c4b-4369-a1e9-1fcd560c2179",
   "metadata": {},
   "outputs": [
    {
     "name": "stdout",
     "output_type": "stream",
     "text": [
      "3/4\n"
     ]
    }
   ],
   "source": [
    "class Fraction:\n",
    "    def __init__(self, num, den):\n",
    "        self.num, self.den = num, den\n",
    "\n",
    "    def __str__(self):\n",
    "        return f\"{self.num}/{self.den}\"\n",
    "\n",
    "f = Fraction(3, 4)\n",
    "print(f)\n"
   ]
  },
  {
   "cell_type": "raw",
   "id": "cb6a62c1-8a38-45fd-a720-708f5ff9aa00",
   "metadata": {},
   "source": [
    "10. Demonstrate operator overloading by creating a class Vector and overriding the add method to add two \n",
    "vectors."
   ]
  },
  {
   "cell_type": "code",
   "execution_count": 14,
   "id": "f4f925d6-16b6-4490-a96e-d7c5c224e151",
   "metadata": {},
   "outputs": [],
   "source": [
    "class Vector:\n",
    "    def __init__(self, x, y):\n",
    "        self.x, self.y = x, y\n",
    "\n",
    "    def __add__(self, other):\n",
    "        return Vector(self.x + other.x, self.y + other.y)"
   ]
  },
  {
   "cell_type": "raw",
   "id": "97c0cb14-c2ed-4657-8536-91ee022f96ee",
   "metadata": {},
   "source": [
    "11. Create a class Person with attributes name and age. Add a method greet() that prints \"Hello, my name is \n",
    "{name} and I am {age} years old."
   ]
  },
  {
   "cell_type": "code",
   "execution_count": 15,
   "id": "b32f8195-6671-40cf-ad01-7541220fa7b3",
   "metadata": {},
   "outputs": [
    {
     "name": "stdout",
     "output_type": "stream",
     "text": [
      "Hello, my name is John and I am 25 years old.\n"
     ]
    }
   ],
   "source": [
    "class Person:\n",
    "    def __init__(self, name, age):\n",
    "        self.name, self.age = name, age\n",
    "\n",
    "    def greet(self):\n",
    "        print(f\"Hello, my name is {self.name} and I am {self.age} years old.\")\n",
    "\n",
    "p = Person(\"John\", 25)\n",
    "p.greet()\n"
   ]
  },
  {
   "cell_type": "raw",
   "id": "de508958-ebdb-4414-b937-ba67e01e6d0a",
   "metadata": {},
   "source": [
    " 12. Implement a class Student with attributes name and grades. Create a method average_grade() to compute \n",
    "the average of the grades"
   ]
  },
  {
   "cell_type": "code",
   "execution_count": 16,
   "id": "cbcd72ef-cc19-4307-b1ce-b4909c3bfc2b",
   "metadata": {},
   "outputs": [
    {
     "name": "stdout",
     "output_type": "stream",
     "text": [
      "90.0\n"
     ]
    }
   ],
   "source": [
    "class Student:\n",
    "    def __init__(self, name, grades):\n",
    "        self.name, self.grades = name, grades\n",
    "\n",
    "    def average_grade(self):\n",
    "        return sum(self.grades) / len(self.grades)\n",
    "\n",
    "s = Student(\"Alex\", [80, 90, 100])\n",
    "print(s.average_grade())\n"
   ]
  },
  {
   "cell_type": "raw",
   "id": "798d060e-2144-45b9-8fc7-1f2afc631776",
   "metadata": {},
   "source": [
    "13. Create a class Rectangle with methods set_dimensions() to set the dimensions and area() to calculate the \n",
    "area"
   ]
  },
  {
   "cell_type": "code",
   "execution_count": 17,
   "id": "415030b7-e35e-477e-bcb8-270d11083020",
   "metadata": {},
   "outputs": [
    {
     "name": "stdout",
     "output_type": "stream",
     "text": [
      "20\n"
     ]
    }
   ],
   "source": [
    "class Rectangle:\n",
    "    def set_dimensions(self, l, w):\n",
    "        self.l, self.w = l, w\n",
    "\n",
    "    def area(self):\n",
    "        return self.l * self.w\n",
    "\n",
    "r = Rectangle()\n",
    "r.set_dimensions(5, 4)\n",
    "print(r.area())\n"
   ]
  },
  {
   "cell_type": "raw",
   "id": "7bd615d5-6ea5-4da3-b197-6c4c729bc077",
   "metadata": {},
   "source": [
    "14. Create a class Employee with a method calculate_salary() that computes the salary based on hours worked \n",
    "and hourly rate. Create a derived class Manager that adds a bonus to the salary"
   ]
  },
  {
   "cell_type": "code",
   "execution_count": 19,
   "id": "67c26fb0-30a4-4f9d-bfed-70859a21e6d2",
   "metadata": {},
   "outputs": [],
   "source": [
    "class Employee:\n",
    "    def __init__(self, hours, rate):\n",
    "        self.hours, self.rate = hours, rate\n",
    "\n",
    "    def calculate_salary(self):\n",
    "        return self.hours * self.rate\n",
    "\n",
    "class Manager(Employee):\n",
    "    def __init__(self, hours, rate, bonus):\n",
    "        super().__init__(hours, rate)\n",
    "        self.bonus = bonus\n",
    "\n",
    "        print (bnus)"
   ]
  },
  {
   "cell_type": "raw",
   "id": "a5b9f169-7e5f-45cd-bc21-07a01378689d",
   "metadata": {},
   "source": [
    "15. Create a class Product with attributes name, price, and quantity. Implement a method total_price() that \n",
    "calculates the total price of the product"
   ]
  },
  {
   "cell_type": "code",
   "execution_count": 20,
   "id": "f9733c99-013c-4cad-854a-f28e3fe5836b",
   "metadata": {},
   "outputs": [
    {
     "name": "stdout",
     "output_type": "stream",
     "text": [
      "Total Price: 100000\n"
     ]
    }
   ],
   "source": [
    "class Product:\n",
    "    def __init__(self, name, price, quantity):\n",
    "        self.name, self.price, self.quantity = name, price, quantity\n",
    "\n",
    "    def total_price(self):\n",
    "        return self.price * self.quantity\n",
    "\n",
    "p = Product(\"Laptop\", 50000, 2)\n",
    "print(\"Total Price:\", p.total_price())\n"
   ]
  },
  {
   "cell_type": "raw",
   "id": "144da650-5e97-4392-92ec-35e3e153c7c9",
   "metadata": {},
   "source": [
    " 16. Create a class Animal with an abstract method sound(). Create two derived classes Cow and Sheep that \n",
    "implement the sound() method"
   ]
  },
  {
   "cell_type": "code",
   "execution_count": 21,
   "id": "194058ba-c2dd-460b-871e-9a42c1d4c880",
   "metadata": {},
   "outputs": [
    {
     "name": "stdout",
     "output_type": "stream",
     "text": [
      "Moo\n",
      "Baa\n"
     ]
    }
   ],
   "source": [
    "from abc import ABC, abstractmethod\n",
    "\n",
    "class Animal(ABC):\n",
    "    @abstractmethod\n",
    "    def sound(self):\n",
    "        pass\n",
    "\n",
    "class Cow(Animal):\n",
    "    def sound(self):\n",
    "        return \"Moo\"\n",
    "\n",
    "class Sheep(Animal):\n",
    "    def sound(self):\n",
    "        return \"Baa\"\n",
    "\n",
    "for a in [Cow(), Sheep()]:\n",
    "    print(a.sound())\n"
   ]
  },
  {
   "cell_type": "raw",
   "id": "641043ed-7aee-4278-a97d-a56f04d937b8",
   "metadata": {},
   "source": [
    " 17. Create a class Book with attributes title, author, and year_published. Add a method get_book_info() that \n",
    "returns a formatted string with the book's details"
   ]
  },
  {
   "cell_type": "code",
   "execution_count": null,
   "id": "2609477e-29d4-42ae-b1ec-a0c1632ba95b",
   "metadata": {},
   "outputs": [],
   "source": [
    "class Book:\n",
    "    def __init__(self, title, author, year_published):\n",
    "        self.title, self.author, self.year = title, author, year_published\n",
    "\n",
    "    def get_book_info(self):\n",
    "        return f\"{self.title} by {self.author}, published in {self.year}\""
   ]
  }
 ],
 "metadata": {
  "kernelspec": {
   "display_name": "Python 3 (ipykernel)",
   "language": "python",
   "name": "python3"
  },
  "language_info": {
   "codemirror_mode": {
    "name": "ipython",
    "version": 3
   },
   "file_extension": ".py",
   "mimetype": "text/x-python",
   "name": "python",
   "nbconvert_exporter": "python",
   "pygments_lexer": "ipython3",
   "version": "3.13.5"
  }
 },
 "nbformat": 4,
 "nbformat_minor": 5
}
